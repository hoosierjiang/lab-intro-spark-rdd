--2019-06-19 12:39:43--  https://raw.githubusercontent.com/drabastomek/learningPySpark/master/Chapter02/LearningPySpark_Chapter02.ipynb
Resolving raw.githubusercontent.com (raw.githubusercontent.com)... 151.101.200.133
Connecting to raw.githubusercontent.com (raw.githubusercontent.com)|151.101.200.133|:443... connected.
HTTP request sent, awaiting response... 
  HTTP/1.1 200 OK
  Content-Security-Policy: default-src 'none'; style-src 'unsafe-inline'; sandbox
  Strict-Transport-Security: max-age=31536000
  X-Content-Type-Options: nosniff
  X-Frame-Options: deny
  X-XSS-Protection: 1; mode=block
  ETag: "c66020ed06db9630499eea0d3eb51bf74686c900"
  Content-Type: text/plain; charset=utf-8
  Cache-Control: max-age=300
  X-Geo-Block-List:
  X-GitHub-Request-Id: 70AA:49C7:3A21C5:42D0B2:5D0A653E
  Content-Length: 30155
  Accept-Ranges: bytes
  Date: Wed, 19 Jun 2019 16:39:43 GMT
  Via: 1.1 varnish
  Connection: keep-alive
  X-Served-By: cache-dca17758-DCA
  X-Cache: HIT
  X-Cache-Hits: 1
  X-Timer: S1560962384.504028,VS0,VE0
  Vary: Authorization,Accept-Encoding
  Access-Control-Allow-Origin: *
  X-Fastly-Request-ID: 790506a771cb47b87ba47229c1eecfcd9c824cab
  Expires: Wed, 19 Jun 2019 16:44:43 GMT
  Source-Age: 17
Length: 30155 (29K) [text/plain]
Saving to: ‘LearningPySpark_Chapter02.ipynb’

     0K .......... .......... .........                       100% 3.28M=0.009s

Last-modified header missing -- time-stamps turned off.
2019-06-19 12:39:43 (3.28 MB/s) - ‘LearningPySpark_Chapter02.ipynb’ saved [30155/30155]

