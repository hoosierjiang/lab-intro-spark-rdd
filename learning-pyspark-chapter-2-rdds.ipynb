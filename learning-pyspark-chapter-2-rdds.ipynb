--2019-06-20 00:08:58--  https://raw.githubusercontent.com/drabastomek/learningPySpark/master/Chapter02/LearningPySpark_Chapter02.ipynb
Resolving raw.githubusercontent.com (raw.githubusercontent.com)... 151.101.248.133
Connecting to raw.githubusercontent.com (raw.githubusercontent.com)|151.101.248.133|:443... connected.
HTTP request sent, awaiting response... 200 OK
Length: 30155 (29K) [text/plain]
Saving to: ‘LearningPySpark_Chapter02.ipynb’

     0K .......... .......... .........                       100% 66.0M=0s

2019-06-20 00:08:58 (66.0 MB/s) - ‘LearningPySpark_Chapter02.ipynb’ saved [30155/30155]

